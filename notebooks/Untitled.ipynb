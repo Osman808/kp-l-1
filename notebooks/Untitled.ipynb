{
 "cells": [
  {
   "attachments": {
    "image.png": {
     "image/png": "[encoded data removed]"
    }
   },
   "cell_type": "markdown",
   "metadata": {},
   "source": [
    "От столба высотой 9 м к дому натянут провод, который крепится на высоте 4 м от земли (см. рисунок). Расстояние от дома до столба 12 м. Найдите площадь фигуры.\n",
    "\n",
    "Дано:\n",
    "a = 4\n",
    "b = 12\n",
    "c = 9\n",
    "Найти:\n",
    "S\n",
    "![image.png](attachment:image.png)\n"
   ]
  },
  {
   "cell_type": "code",
   "execution_count": 2,
   "metadata": {},
   "outputs": [
    {
     "name": "stdout",
     "output_type": "stream",
     "text": [
      "Площадь фигуры равна 138.0 метров квадратных\n"
     ]
    }
   ],
   "source": [
    "a = 4\n",
    "b = 12\n",
    "c = 9\n",
    "s1 = c*b\n",
    "s2 = ((c-a)*b)/2\n",
    "s = s1 + s2\n",
    "print(\"Площадь фигуры равна\",s,\"метров квадратных\")"
   ]
  }
 ],
 "metadata": {
  "kernelspec": {
   "display_name": "Python 3",
   "language": "python",
   "name": "python3"
  },
  "language_info": {
   "codemirror_mode": {
    "name": "ipython",
    "version": 3
   },
   "file_extension": ".py",
   "mimetype": "text/x-python",
   "name": "python",
   "nbconvert_exporter": "python",
   "pygments_lexer": "ipython3",
   "version": "3.8.5"
  }
 },
 "nbformat": 4,
 "nbformat_minor": 4
}
